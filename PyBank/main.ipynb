{
 "cells": [
  {
   "cell_type": "code",
   "execution_count": 56,
   "id": "29e41573-ad3f-4cf0-be9d-a2cc124c7c2a",
   "metadata": {},
   "outputs": [],
   "source": [
    "from pathlib import Path\n",
    "import csv"
   ]
  },
  {
   "cell_type": "code",
   "execution_count": 31,
   "id": "f2a1e0d1-a129-4ca7-a825-d50ce738cff3",
   "metadata": {},
   "outputs": [
    {
     "name": "stdout",
     "output_type": "stream",
     "text": [
      "/Users/stevethrills/python-challenge/PyBank\n"
     ]
    }
   ],
   "source": [
    "print(Path.cwd())"
   ]
  },
  {
   "cell_type": "code",
   "execution_count": 53,
   "id": "4e87170e-6e81-422b-90da-9a23caf1fcec",
   "metadata": {},
   "outputs": [],
   "source": [
    "csvpath = Path('/Users/stevethrills/Desktop/code/Instructions/PyBank/Resources/budget_data.csv')"
   ]
  },
  {
   "cell_type": "code",
   "execution_count": 147,
   "id": "187a8796-925e-4143-8af2-6994f20a9d76",
   "metadata": {},
   "outputs": [
    {
     "name": "stdout",
     "output_type": "stream",
     "text": [
      "Financial Analysis\n",
      "------------------\n",
      "Total Months: 86\n",
      "Total PNL: $38382578\n",
      "Average Change: $-2315.12\n",
      "Greatest Increase in Profits: Feb-2012 ($1926159)\n",
      "Greatest Decrease in Profits: Sep-2013 ($-2196167)\n"
     ]
    }
   ],
   "source": [
    "pnl_list = []\n",
    "month_list = []\n",
    "total_pnl = []\n",
    "highest_pnl = []\n",
    "lowest_pnl =[]\n",
    "monthly_pnl_change = []\n",
    "greatest_increase = [\"\", 999999999]\n",
    "greatest_decrease = [\"\", 0]\n",
    "months = 0\n",
    "with open(csvpath, 'r') as csvfile:\n",
    "    \n",
    "    csvreader = csv.reader(csvfile, delimiter=',')\n",
    "    \n",
    "    header = next(csvreader)\n",
    "    line_num += 1\n",
    "   \n",
    "    for row in csvreader:\n",
    "        \n",
    "        pnl = int(row[1])\n",
    "        month =(row[0])\n",
    "        pnl_list.append(pnl)\n",
    "        month_list.append(month)\n",
    "        total_pnl.append(int(row[1]))\n",
    "        months += 1\n",
    "    \n",
    "    for i in range(len(total_pnl)-1):\n",
    "        \n",
    "        monthly_pnl_change.append(total_pnl[i + 1]-total_pnl[i])\n",
    "    \n",
    "max_pnl = max(monthly_pnl_change)\n",
    "min_pnl = min(monthly_pnl_change)\n",
    "max_month = monthly_pnl_change.index(max(monthly_pnl_change)) + 1\n",
    "min_month = monthly_pnl_change.index(min(monthly_pnl_change)) + 1\n",
    "average_pnl = round(sum(monthly_pnl_change)/(count_pnl - 1), 2)\n",
    "total_pnl = 0\n",
    "count_pnl = 0\n",
    "\n",
    "for pnl in pnl_list:\n",
    "    \n",
    "    total_pnl += pnl\n",
    "    count_pnl += 1\n",
    "\n",
    "    if min_pnl == 0:\n",
    "        min_pnl = pnl\n",
    "    elif pnl > max_pnl:\n",
    "        max_pnl = pnl\n",
    "    elif pnl < min_pnl:\n",
    "        min_pnl = pnl\n",
    "        \n",
    "print(\"Financial Analysis\")      \n",
    "print(\"------------------\")\n",
    "print(f\"Total Months: {months}\")\n",
    "print(f\"Total PNL: ${total_pnl}\")\n",
    "print(f\"Average Change: ${average_pnl}\")\n",
    "print(f\"Greatest Increase in Profits: {month_list[max_month]} (${max_pnl})\")\n",
    "print(f\"Greatest Decrease in Profits: {month_list[min_month]} (${min_pnl})\")\n",
    "\n",
    "\n",
    "output = Path(\"financial_analysis.text\")\n",
    "\n",
    "with open(output, 'w') as file:\n",
    "\n",
    "    file.write(\"Financial Analysis\\n\") \n",
    "    file.write(\"------------------\\n\")\n",
    "    file.write(f\"Total Months: {months}\\n\")\n",
    "    file.write(f\"Total PNL: ${total_pnl}\\n\")\n",
    "    file.write(f\"Average Change: ${average_pnl}\\n\")\n",
    "    file.write(f\"Greatest Increase in Profits: {month_list[max_month]} (${max_pnl})\\n\")\n",
    "    file.write(f\"Greatest Decrease in Profits: {month_list[min_month]} (${min_pnl})\\n\")         \n",
    "    \n",
    "\n"
   ]
  },
  {
   "cell_type": "code",
   "execution_count": null,
   "id": "2832059c-93fd-452b-b0a4-5b3ddda8e0cd",
   "metadata": {},
   "outputs": [],
   "source": []
  }
 ],
 "metadata": {
  "kernelspec": {
   "display_name": "Python 3 (ipykernel)",
   "language": "python",
   "name": "python3"
  },
  "language_info": {
   "codemirror_mode": {
    "name": "ipython",
    "version": 3
   },
   "file_extension": ".py",
   "mimetype": "text/x-python",
   "name": "python",
   "nbconvert_exporter": "python",
   "pygments_lexer": "ipython3",
   "version": "3.7.13"
  }
 },
 "nbformat": 4,
 "nbformat_minor": 5
}
